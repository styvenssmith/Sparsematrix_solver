{
 "cells": [
  {
   "cell_type": "code",
   "execution_count": 7,
   "metadata": {},
   "outputs": [],
   "source": [
    "class SparseMatrix:\n",
    "    def __init__(self, shape: tuple[int, int], dtype=float):\n",
    "        self.shape = shape\n",
    "        self.rows, self.cols = shape\n",
    "        self.dtype = dtype\n",
    "        self.format = None\n",
    "\n",
    "\n",
    "\n",
    "class CSCMatrix(SparseMatrix):\n",
    "    def __init__(self, shape: tuple[int,int] = (0,0), dense_matrix=None):\n",
    "        if dense_matrix is not None:\n",
    "            # Extract shape and dtype from dense_matrix\n",
    "            shape = (len(dense_matrix), len(dense_matrix[0]))\n",
    "            dtype = type(dense_matrix[0][0])\n",
    "            super().__init__(shape, dtype)   # Initialize parent\n",
    "        else:\n",
    "            super().__init__(shape)           # Initialize parent with given shape\n",
    "\n",
    "        # Now set CSC-specific attributes\n",
    "        self.values = []\n",
    "        self.row_indices = []\n",
    "        self.col_ptr = [0]\n",
    "        self.format = 'CSC'\n",
    "\n",
    "        # If dense_matrix provided, convert to CSC\n",
    "        if dense_matrix is not None:\n",
    "            self._from_dense(dense_matrix)   # Note: single underscore\n",
    "\n",
    "    def _from_dense(self,dense_matrix):\n",
    "        \"\"\"Convert dense matrix to CSC format\"\"\"\n",
    "        for j in range(self.cols):\n",
    "            col_nonzero = 0\n",
    "            for i in range(self.rows):\n",
    "                if dense_matrix[i][j] != 0:\n",
    "                    self.values.append(dense_matrix[i][j])\n",
    "                    self.row_indices.append(i)\n",
    "                    col_nonzero += 1\n",
    "            self.col_ptr.append(self.col_ptr[-1] + col_nonzero)\n",
    "\n",
    "\n",
    "\n",
    "\n",
    "dense_matrix = [\n",
    "        [1, 0, 0, 2],\n",
    "        [0, 0, 3, 0],\n",
    "        [0, 4, 0, 5],\n",
    "        [6, 0, 0, 7]\n",
    "    ]\n",
    "    \n",
    "\n",
    "csc_matrix= CSCMatrix(dense_matrix= dense_matrix)\n",
    "\n"
   ]
  },
  {
   "cell_type": "code",
   "execution_count": 5,
   "metadata": {},
   "outputs": [
    {
     "data": {
      "text/plain": [
       "(2, 2)"
      ]
     },
     "execution_count": 5,
     "metadata": {},
     "output_type": "execute_result"
    }
   ],
   "source": [
    "class COOMatrix:\n",
    "    def __init__(self, dense_matrix):\n",
    "        self.shape = (len(dense_matrix), len(dense_matrix[0]))\n",
    "        self.data= []\n",
    "        self.row = []\n",
    "        self.col = []\n",
    "\n",
    "\n",
    "matrix = [[1,2], [3,4]]\n",
    "temp= COOMatrix(matrix)\n",
    "\n",
    "temp.shape"
   ]
  }
 ],
 "metadata": {
  "kernelspec": {
   "display_name": "Python 3",
   "language": "python",
   "name": "python3"
  },
  "language_info": {
   "codemirror_mode": {
    "name": "ipython",
    "version": 3
   },
   "file_extension": ".py",
   "mimetype": "text/x-python",
   "name": "python",
   "nbconvert_exporter": "python",
   "pygments_lexer": "ipython3",
   "version": "3.10.0"
  }
 },
 "nbformat": 4,
 "nbformat_minor": 2
}
