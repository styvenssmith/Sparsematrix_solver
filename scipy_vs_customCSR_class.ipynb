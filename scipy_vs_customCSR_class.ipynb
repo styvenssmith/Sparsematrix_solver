{
 "cells": [
  {
   "cell_type": "code",
   "execution_count": 17,
   "metadata": {},
   "outputs": [
    {
     "name": "stdout",
     "output_type": "stream",
     "text": [
      "comparison of my time vs scipy libray time to perform dot operation\n",
      "my time [48.86916633299552], scipy time [0.06672241701744497]\n"
     ]
    }
   ],
   "source": [
    "from core_sparse_formats import CSRMatrix\n",
    "from scipy.sparse import csr_matrix\n",
    "import numpy as np\n",
    "import timeit\n",
    "\n",
    "n=  1000\n",
    "dense_matrix = np.random.randint(1, 10000, size= (n,n))\n",
    "\n",
    "#my custom csr \n",
    "my_csr = CSRMatrix.from_dense(dense_matrix)\n",
    "\n",
    "#scipys csr\n",
    "scipy_csr = csr_matrix(dense_matrix)\n",
    "\n",
    "\n",
    "test_vector=  np.random.randint(1, 10000, n)\n",
    "\n",
    "my_result = my_csr.dot(test_vector)\n",
    "\n",
    "scipy_result= scipy_csr.dot(test_vector)\n",
    "\n",
    "\n",
    "\n",
    "number = 100\n",
    "repeat = 1\n",
    "my_time = timeit.repeat('my_csr.dot(test_vector)', globals = globals(),number = number,repeat = repeat )\n",
    "scipy_time = timeit.repeat('scipy_csr.dot(test_vector)', globals = globals(), number = number,  repeat = repeat)\n",
    "\n",
    "print(\"comparison of my time vs scipy libray time to perform dot operation\")\n",
    "print(f\"my time {my_time}, scipy time {scipy_time}\")"
   ]
  }
 ],
 "metadata": {
  "kernelspec": {
   "display_name": "Python 3",
   "language": "python",
   "name": "python3"
  },
  "language_info": {
   "codemirror_mode": {
    "name": "ipython",
    "version": 3
   },
   "file_extension": ".py",
   "mimetype": "text/x-python",
   "name": "python",
   "nbconvert_exporter": "python",
   "pygments_lexer": "ipython3",
   "version": "3.10.0"
  }
 },
 "nbformat": 4,
 "nbformat_minor": 2
}
