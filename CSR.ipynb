{
 "cells": [
  {
   "cell_type": "code",
   "execution_count": 3,
   "metadata": {},
   "outputs": [],
   "source": [
    "import numpy as np\n",
    "\n",
    "#csr from scartch\n",
    "#value -> stores all non zero values in row major order\n",
    "#col_indices -> stores the column index for each non-zero value\n",
    "#row_ptr -> stores the index ranges for each row in the other arrays\n",
    "\n",
    "class CSR_matrix:\n",
    "    def __init__(self, dense_matrix):\n",
    "        self.rows= len(dense_matrix)\n",
    "        self.cols = len(dense_matrix[0]) if self.rows>0 else 0\n",
    "        self.values= []\n",
    "        self.col_indices = []\n",
    "        self.row_ptr = [0]\n",
    "\n",
    "        for row in dense_matrix:\n",
    "            #number of zero in row\n",
    "            nnz_in_row = 0\n",
    "            for col_idx, value in enumerate(row):\n",
    "                if value!=0:\n",
    "                    self.values.append(value)\n",
    "                    self.col_indices.append(col_idx)\n",
    "                    nnz_in_row+=1\n",
    "            self.row_ptr.append(self.row_ptr[-1]+nnz_in_row)\n",
    "\n",
    "    def get_rows(self, row_idx):\n",
    "        start = self.row_ptr[row_idx]\n",
    "        end = self.row_ptr[row_idx+1]\n",
    "        row = [0]*self.cols\n",
    "        for i in range(start, end):\n",
    "            col = self.col_indices[i]\n",
    "            row[col] = self.values[i]\n",
    "        return row\n",
    "    \n",
    "    def to_dense(self):\n",
    "        \n",
    "        dense =[[0]*self.cols for _ in range(self.rows)]\n",
    "        #go through the rows\n",
    "        for row_idx in range(self.rows):\n",
    "            start = self.row_ptr[row_idx]\n",
    "            end =  self.row_ptr[row_idx+1]\n",
    "            #for each row, we count how many nonzero rows\n",
    "            #then we go through these nonzero elements and put them back\n",
    "            for i in range(start, end):\n",
    "                col_idx = self.col_indices[i]\n",
    "                dense[row_idx][col_idx] = self.values[i]\n",
    "\n",
    "        return (dense)\n",
    "    \n",
    "    def matvec(self, vector):\n",
    "        result = np.zeros(self.rows)\n",
    "        for i in range(self.rows):\n",
    "            start = self.row_ptr[i]\n",
    "            end = self.row_ptr[i+1]\n",
    "            row_sum = 0\n",
    "            for j in range(start, end):\n",
    "                row_sum+=self.values[j]*vector[self.col_indices[j]]\n",
    "            result[i] = row_sum\n",
    "\n",
    "        return result\n",
    "    \n",
    "    \n",
    "\n",
    "\n",
    "\n",
    "dense_matrix=[[1, 0, 2],\n",
    " [0, 0, 3],\n",
    " [4, 5, 0]]\n",
    "\n",
    "csr = CSR_matrix(dense_matrix)\n"
   ]
  },
  {
   "cell_type": "code",
   "execution_count": 4,
   "metadata": {},
   "outputs": [
    {
     "name": "stdout",
     "output_type": "stream",
     "text": [
      "Original matrix:\n",
      "[[1 0 2]\n",
      " [0 0 3]\n",
      " [4 5 0]]\n",
      "\n",
      "Reconstructed from CSR:\n",
      "[[1 0 2]\n",
      " [0 0 3]\n",
      " [4 5 0]]\n",
      "\n",
      "Matrix-vector multiplication (A*x):\n",
      "Expected: [25, 27, 68]\n",
      "Actual: [25. 27. 68.]\n",
      "\n",
      "Getting individual rows:\n",
      "Row 0: [1, 0, 2] (expected [1, 0, 2])\n",
      "Row 1: [0, 0, 3] (expected [0, 0, 3])\n",
      "Row 2: [4, 5, 0] (expected [4, 5, 0])\n"
     ]
    }
   ],
   "source": [
    "#test 1 \n",
    "\n",
    "# Test 1: Basic 3x3 matrix\n",
    "dense_matrix = [\n",
    "    [1, 0, 2],\n",
    "    [0, 0, 3],\n",
    "    [4, 5, 0]\n",
    "]\n",
    "\n",
    "csr = CSR_matrix(dense_matrix)\n",
    "\n",
    "# Test to_dense()\n",
    "print(\"Original matrix:\")\n",
    "print(np.array(dense_matrix))\n",
    "print(\"\\nReconstructed from CSR:\")\n",
    "print(np.array(csr.to_dense()))\n",
    "\n",
    "# Test matvec()\n",
    "vector = [7, 8, 9]\n",
    "print(\"\\nMatrix-vector multiplication (A*x):\")\n",
    "print(f\"Expected: [25, 27, 68]\")  # 1*7 + 2*9 = 25; 3*9 = 27; 4*7 + 5*8 = 68\n",
    "print(f\"Actual: {csr.matvec(vector)}\")\n",
    "\n",
    "# Test get_rows()\n",
    "print(\"\\nGetting individual rows:\")\n",
    "print(f\"Row 0: {csr.get_rows(0)} (expected [1, 0, 2])\")\n",
    "print(f\"Row 1: {csr.get_rows(1)} (expected [0, 0, 3])\")\n",
    "print(f\"Row 2: {csr.get_rows(2)} (expected [4, 5, 0])\")"
   ]
  },
  {
   "cell_type": "code",
   "execution_count": 5,
   "metadata": {},
   "outputs": [
    {
     "name": "stdout",
     "output_type": "stream",
     "text": [
      "\n",
      "Empty matrix test:\n",
      "to_dense(): [] (expected [])\n",
      "matvec([]): [] (expected [])\n"
     ]
    }
   ],
   "source": [
    "#test 2\n",
    "# Test 2: Empty matrix\n",
    "empty_matrix = []\n",
    "csr_empty = CSR_matrix(empty_matrix)\n",
    "print(\"\\nEmpty matrix test:\")\n",
    "print(f\"to_dense(): {csr_empty.to_dense()} (expected [])\")\n",
    "print(f\"matvec([]): {csr_empty.matvec([])} (expected [])\")"
   ]
  },
  {
   "cell_type": "code",
   "execution_count": 6,
   "metadata": {},
   "outputs": [
    {
     "name": "stdout",
     "output_type": "stream",
     "text": [
      "\n",
      "All zeros matrix test:\n",
      "Reconstructed from CSR:\n",
      "[[0 0 0]\n",
      " [0 0 0]]\n",
      "matvec: [0. 0.] (expected [0, 0])\n"
     ]
    }
   ],
   "source": [
    "#test 3\n",
    "# Test 3: All zeros matrix\n",
    "zero_matrix = [\n",
    "    [0, 0, 0],\n",
    "    [0, 0, 0]\n",
    "]\n",
    "csr_zero = CSR_matrix(zero_matrix)\n",
    "vector = [1, 2, 3]\n",
    "\n",
    "print(\"\\nAll zeros matrix test:\")\n",
    "print(\"Reconstructed from CSR:\")\n",
    "print(np.array(csr_zero.to_dense()))\n",
    "print(f\"matvec: {csr_zero.matvec(vector)} (expected [0, 0])\")"
   ]
  },
  {
   "cell_type": "code",
   "execution_count": 7,
   "metadata": {},
   "outputs": [
    {
     "name": "stdout",
     "output_type": "stream",
     "text": [
      "\n",
      "Diagonal matrix test:\n",
      "Reconstructed from CSR:\n",
      "[[5 0 0]\n",
      " [0 3 0]\n",
      " [0 0 1]]\n",
      "matvec: [10. 12.  6.] (expected [10, 12, 6])\n"
     ]
    }
   ],
   "source": [
    "#test 4\n",
    "# Test 4: Diagonal matrix\n",
    "diag_matrix = [\n",
    "    [5, 0, 0],\n",
    "    [0, 3, 0],\n",
    "    [0, 0, 1]\n",
    "]\n",
    "csr_diag = CSR_matrix(diag_matrix)\n",
    "vector = [2, 4, 6]\n",
    "\n",
    "print(\"\\nDiagonal matrix test:\")\n",
    "print(\"Reconstructed from CSR:\")\n",
    "print(np.array(csr_diag.to_dense()))\n",
    "print(f\"matvec: {csr_diag.matvec(vector)} (expected [10, 12, 6])\")"
   ]
  },
  {
   "cell_type": "code",
   "execution_count": 8,
   "metadata": {},
   "outputs": [
    {
     "name": "stdout",
     "output_type": "stream",
     "text": [
      "\n",
      "Full matrix test:\n",
      "Reconstructed from CSR:\n",
      "[[1 2 3]\n",
      " [4 5 6]]\n",
      "matvec: [-2. -2.] (expected [-2, -2])\n"
     ]
    }
   ],
   "source": [
    "#test 5\n",
    "# Test 5: Full matrix (no zeros)\n",
    "full_matrix = [\n",
    "    [1, 2, 3],\n",
    "    [4, 5, 6]\n",
    "]\n",
    "csr_full = CSR_matrix(full_matrix)\n",
    "vector = [1, 0, -1]\n",
    "\n",
    "print(\"\\nFull matrix test:\")\n",
    "print(\"Reconstructed from CSR:\")\n",
    "print(np.array(csr_full.to_dense()))\n",
    "print(f\"matvec: {csr_full.matvec(vector)} (expected [-2, -2])\")  # 1*1 + 2*0 + 3*-1 = -2; 4*1 + 5*0 + 6*-1 = -2"
   ]
  },
  {
   "cell_type": "code",
   "execution_count": 9,
   "metadata": {},
   "outputs": [
    {
     "name": "stdout",
     "output_type": "stream",
     "text": [
      "\n",
      "Single element matrix test:\n",
      "Reconstructed from CSR:\n",
      "[[7]]\n",
      "matvec: [21.] (expected [21])\n"
     ]
    }
   ],
   "source": [
    "#test 6\n",
    "# Test 6: Single element matrix\n",
    "single_matrix = [[7]]\n",
    "csr_single = CSR_matrix(single_matrix)\n",
    "vector = [3]\n",
    "\n",
    "print(\"\\nSingle element matrix test:\")\n",
    "print(\"Reconstructed from CSR:\")\n",
    "print(np.array(csr_single.to_dense()))\n",
    "print(f\"matvec: {csr_single.matvec(vector)} (expected [21])\")"
   ]
  },
  {
   "cell_type": "code",
   "execution_count": 10,
   "metadata": {},
   "outputs": [
    {
     "name": "stdout",
     "output_type": "stream",
     "text": [
      "\n",
      "Rectangular matrix test:\n",
      "Reconstructed from CSR:\n",
      "[[1 0 2 0]\n",
      " [0 3 0 4]\n",
      " [5 0 6 0]]\n",
      "matvec: [ 7. 22. 23.] (expected [7, 22, 23])\n"
     ]
    }
   ],
   "source": [
    "#test 7\n",
    "# Test 7: Rectangular matrix\n",
    "rect_matrix = [\n",
    "    [1, 0, 2, 0],\n",
    "    [0, 3, 0, 4],\n",
    "    [5, 0, 6, 0]\n",
    "]\n",
    "csr_rect = CSR_matrix(rect_matrix)\n",
    "vector = [1, 2, 3, 4]\n",
    "\n",
    "print(\"\\nRectangular matrix test:\")\n",
    "print(\"Reconstructed from CSR:\")\n",
    "print(np.array(csr_rect.to_dense()))\n",
    "print(f\"matvec: {csr_rect.matvec(vector)} (expected [7, 22, 23])\")  # 1*1 + 2*3 = 7; 3*2 + 4*4 = 22; 5*1 + 6*3 = 23"
   ]
  },
  {
   "cell_type": "code",
   "execution_count": 13,
   "metadata": {},
   "outputs": [
    {
     "name": "stdout",
     "output_type": "stream",
     "text": [
      "\n",
      "Large matrix test:\n",
      "Original and reconstructed equal? True\n",
      "matvec correct? True\n"
     ]
    }
   ],
   "source": [
    "# Test 8: Random large matrix\n",
    "np.random.seed(42)\n",
    "large_dense = np.random.rand(1000, 1000)\n",
    "large_dense[large_dense < 0.9] = 0  # Make it sparse (~10% non-zero)\n",
    "csr_large = CSR_matrix(large_dense.tolist())\n",
    "\n",
    "# Verify reconstruction\n",
    "reconstructed = np.array(csr_large.to_dense())\n",
    "print(\"\\nLarge matrix test:\")\n",
    "print(f\"Original and reconstructed equal? {np.allclose(large_dense, reconstructed)}\")\n",
    "\n",
    "# Test matvec with random vector\n",
    "large_vector = np.random.rand(1000)\n",
    "result = csr_large.matvec(large_vector)\n",
    "expected = large_dense @ large_vector\n",
    "print(f\"matvec correct? {np.allclose(result, expected)}\")"
   ]
  }
 ],
 "metadata": {
  "kernelspec": {
   "display_name": "Python 3",
   "language": "python",
   "name": "python3"
  },
  "language_info": {
   "codemirror_mode": {
    "name": "ipython",
    "version": 3
   },
   "file_extension": ".py",
   "mimetype": "text/x-python",
   "name": "python",
   "nbconvert_exporter": "python",
   "pygments_lexer": "ipython3",
   "version": "3.10.0"
  }
 },
 "nbformat": 4,
 "nbformat_minor": 2
}
