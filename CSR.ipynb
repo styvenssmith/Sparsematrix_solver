{
 "cells": [
  {
   "cell_type": "code",
   "execution_count": 2,
   "metadata": {},
   "outputs": [
    {
     "name": "stdout",
     "output_type": "stream",
     "text": [
      "[[0, 0, 0], [0, 0, 0], [0, 0, 0]]\n"
     ]
    }
   ],
   "source": [
    "import numpy as np\n",
    "\n",
    "#csr from scartch\n",
    "#value -> stores all non zero values in row major order\n",
    "#col_indices -> stores the column index for each non-zero value\n",
    "#row_ptr -> stores the index ranges for each row in the other arrays\n",
    "\n",
    "class CSR_matrix:\n",
    "    def __init__(self, dense_matrix):\n",
    "        self.rows= len(dense_matrix)\n",
    "        self.cols = len(dense_matrix[0]) if self.rows>0 else 0\n",
    "        self.values= []\n",
    "        self.col_indices = []\n",
    "        self.row_ptr = [0]\n",
    "\n",
    "        for row in dense_matrix:\n",
    "            #number of zero in row\n",
    "            nnz_in_row = 0\n",
    "            for col_idx, value in enumerate(row):\n",
    "                if value!=0:\n",
    "                    self.values.append(value)\n",
    "                    self.col_indices.append(col_idx)\n",
    "                    nnz_in_row+=1\n",
    "            self.row_ptr.append(self.row_ptr[-1]+nnz_in_row)\n",
    "\n",
    "    def get_rows(self, row_idx):\n",
    "        start = self.row_ptr[row_idx]\n",
    "        end = self.row_ptr[row_idx+1]\n",
    "        row = [0]*self.cols\n",
    "        for i in range(start, end):\n",
    "            col = self.col_indices[i]\n",
    "            row[col] = self.values[i]\n",
    "        return row\n",
    "    \n",
    "    def to_dense(self):\n",
    "        \n",
    "        dense =[[0]*self.cols for _ in range(self.rows)]\n",
    "        for row_idx in range(self.rows):\n",
    "            \n",
    "        print(dense)\n",
    "\n",
    "\n",
    "\n",
    "dense_matrix=[[1, 0, 2],\n",
    " [0, 0, 3],\n",
    " [4, 5, 0]]\n",
    "\n",
    "csr = CSR_matrix(dense_matrix)\n",
    "csr.to_dense()"
   ]
  },
  {
   "cell_type": "code",
   "execution_count": 3,
   "metadata": {},
   "outputs": [
    {
     "name": "stdout",
     "output_type": "stream",
     "text": [
      "(0, 1)\n",
      "(1, 2)\n",
      "(2, 3)\n"
     ]
    }
   ],
   "source": [
    "\n",
    "dense_matrix=[[1, 0, 2],\n",
    " [0, 0, 3],\n",
    " [4, 5, 0]]\n",
    "\n"
   ]
  }
 ],
 "metadata": {
  "kernelspec": {
   "display_name": "Python 3",
   "language": "python",
   "name": "python3"
  },
  "language_info": {
   "codemirror_mode": {
    "name": "ipython",
    "version": 3
   },
   "file_extension": ".py",
   "mimetype": "text/x-python",
   "name": "python",
   "nbconvert_exporter": "python",
   "pygments_lexer": "ipython3",
   "version": "3.10.0"
  }
 },
 "nbformat": 4,
 "nbformat_minor": 2
}
